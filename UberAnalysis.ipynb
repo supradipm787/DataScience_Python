{
 "cells": [
  {
   "cell_type": "markdown",
   "id": "9423711c",
   "metadata": {},
   "source": [
    "# Revising Pandas in Python & Jupyter"
   ]
  },
  {
   "cell_type": "code",
   "execution_count": 3,
   "id": "a2c2ca81",
   "metadata": {},
   "outputs": [],
   "source": [
    "### lets import all the necessary packages !\n",
    "\n",
    "import pandas as pd\n",
    "import seaborn as sns\n",
    "import matplotlib.pyplot as plt\n",
    "import numpy as np\n"
   ]
  },
  {
   "cell_type": "code",
   "execution_count": 4,
   "id": "67dd9d09",
   "metadata": {},
   "outputs": [],
   "source": [
    "## read data \n",
    "uber_15=pd.read_csv(r'C:\\Users\\Supradip\\DataScience_Exercises\\uber-pickups-in-new-york-city-20230506T085941Z-001\\uber-pickups-in-new-york-city/uber-raw-data-janjune-15.csv',encoding='utf-8')"
   ]
  },
  {
   "cell_type": "code",
   "execution_count": 5,
   "id": "666eb2f1",
   "metadata": {},
   "outputs": [
    {
     "data": {
      "text/html": [
       "<div>\n",
       "<style scoped>\n",
       "    .dataframe tbody tr th:only-of-type {\n",
       "        vertical-align: middle;\n",
       "    }\n",
       "\n",
       "    .dataframe tbody tr th {\n",
       "        vertical-align: top;\n",
       "    }\n",
       "\n",
       "    .dataframe thead th {\n",
       "        text-align: right;\n",
       "    }\n",
       "</style>\n",
       "<table border=\"1\" class=\"dataframe\">\n",
       "  <thead>\n",
       "    <tr style=\"text-align: right;\">\n",
       "      <th></th>\n",
       "      <th>Dispatching_base_num</th>\n",
       "      <th>Pickup_date</th>\n",
       "      <th>Affiliated_base_num</th>\n",
       "      <th>locationID</th>\n",
       "    </tr>\n",
       "  </thead>\n",
       "  <tbody>\n",
       "    <tr>\n",
       "      <th>0</th>\n",
       "      <td>B02617</td>\n",
       "      <td>2015-05-17 09:47:00</td>\n",
       "      <td>B02617</td>\n",
       "      <td>141</td>\n",
       "    </tr>\n",
       "    <tr>\n",
       "      <th>1</th>\n",
       "      <td>B02617</td>\n",
       "      <td>2015-05-17 09:47:00</td>\n",
       "      <td>B02617</td>\n",
       "      <td>65</td>\n",
       "    </tr>\n",
       "    <tr>\n",
       "      <th>2</th>\n",
       "      <td>B02617</td>\n",
       "      <td>2015-05-17 09:47:00</td>\n",
       "      <td>B02617</td>\n",
       "      <td>100</td>\n",
       "    </tr>\n",
       "  </tbody>\n",
       "</table>\n",
       "</div>"
      ],
      "text/plain": [
       "  Dispatching_base_num          Pickup_date Affiliated_base_num  locationID\n",
       "0               B02617  2015-05-17 09:47:00              B02617         141\n",
       "1               B02617  2015-05-17 09:47:00              B02617          65\n",
       "2               B02617  2015-05-17 09:47:00              B02617         100"
      ]
     },
     "execution_count": 5,
     "metadata": {},
     "output_type": "execute_result"
    }
   ],
   "source": [
    "## view of data\n",
    "uber_15.head(3)"
   ]
  },
  {
   "cell_type": "code",
   "execution_count": 6,
   "id": "7d120d78",
   "metadata": {},
   "outputs": [
    {
     "data": {
      "text/plain": [
       "(14270479, 4)"
      ]
     },
     "execution_count": 6,
     "metadata": {},
     "output_type": "execute_result"
    }
   ],
   "source": [
    "uber_15.shape"
   ]
  },
  {
   "cell_type": "code",
   "execution_count": 7,
   "id": "64dae7e4",
   "metadata": {},
   "outputs": [
    {
     "data": {
      "text/plain": [
       "898225"
      ]
     },
     "execution_count": 7,
     "metadata": {},
     "output_type": "execute_result"
    }
   ],
   "source": [
    "## getting count of total duplicated observations in your data\n",
    "uber_15.duplicated().sum()\n"
   ]
  },
  {
   "cell_type": "code",
   "execution_count": 8,
   "id": "3986ec92",
   "metadata": {},
   "outputs": [],
   "source": [
    "## deleting all the duplicated observations\n",
    "uber_15.drop_duplicates(inplace=True)\n"
   ]
  },
  {
   "cell_type": "code",
   "execution_count": 10,
   "id": "13e2a763",
   "metadata": {},
   "outputs": [
    {
     "data": {
      "text/plain": [
       "(13372254, 4)"
      ]
     },
     "execution_count": 10,
     "metadata": {},
     "output_type": "execute_result"
    }
   ],
   "source": [
    "##get the number of rows & columns of the csv file after deleting duplicates\n",
    "uber_15.shape\n"
   ]
  },
  {
   "cell_type": "markdown",
   "id": "b6204dc2",
   "metadata": {},
   "source": [
    "## 2..Which month have max. Uber pickups in New York City ?"
   ]
  },
  {
   "cell_type": "code",
   "execution_count": 11,
   "id": "502772a8",
   "metadata": {},
   "outputs": [
    {
     "data": {
      "text/plain": [
       "Dispatching_base_num    object\n",
       "Pickup_date             object\n",
       "Affiliated_base_num     object\n",
       "locationID               int64\n",
       "dtype: object"
      ]
     },
     "execution_count": 11,
     "metadata": {},
     "output_type": "execute_result"
    }
   ],
   "source": [
    "### what about data-type of your features\n",
    "uber_15.dtypes"
   ]
  },
  {
   "cell_type": "code",
   "execution_count": 13,
   "id": "18918eab",
   "metadata": {},
   "outputs": [],
   "source": [
    "uber_15['Pickup_date']=pd.to_datetime(uber_15['Pickup_date'], format ='%Y-%m-%d %H:%M:%S' )"
   ]
  },
  {
   "cell_type": "code",
   "execution_count": 14,
   "id": "ba1cfef7",
   "metadata": {},
   "outputs": [
    {
     "name": "stdout",
     "output_type": "stream",
     "text": [
      "0          2015-05-17 09:47:00\n",
      "1          2015-05-17 09:47:00\n",
      "2          2015-05-17 09:47:00\n",
      "3          2015-05-17 09:47:00\n",
      "4          2015-05-17 09:47:00\n",
      "                   ...        \n",
      "14270474   2015-05-08 15:43:00\n",
      "14270475   2015-05-08 15:43:00\n",
      "14270476   2015-05-08 15:43:00\n",
      "14270477   2015-05-08 15:44:00\n",
      "14270478   2015-05-08 15:44:00\n",
      "Name: Pickup_date, Length: 13372254, dtype: datetime64[ns]\n"
     ]
    }
   ],
   "source": [
    "print (uber_15['Pickup_date'])"
   ]
  },
  {
   "cell_type": "code",
   "execution_count": 15,
   "id": "d915aa43",
   "metadata": {},
   "outputs": [
    {
     "data": {
      "text/plain": [
       "dtype('<M8[ns]')"
      ]
     },
     "execution_count": 15,
     "metadata": {},
     "output_type": "execute_result"
    }
   ],
   "source": [
    "uber_15['Pickup_date'].dtype"
   ]
  },
  {
   "cell_type": "code",
   "execution_count": 17,
   "id": "f2830ee0",
   "metadata": {},
   "outputs": [],
   "source": [
    "uber_15['month']=uber_15['Pickup_date'].dt.month"
   ]
  },
  {
   "cell_type": "code",
   "execution_count": 18,
   "id": "c4b5a4ad",
   "metadata": {},
   "outputs": [
    {
     "name": "stdout",
     "output_type": "stream",
     "text": [
      "0           5\n",
      "1           5\n",
      "2           5\n",
      "3           5\n",
      "4           5\n",
      "           ..\n",
      "14270474    5\n",
      "14270475    5\n",
      "14270476    5\n",
      "14270477    5\n",
      "14270478    5\n",
      "Name: month, Length: 13372254, dtype: int64\n"
     ]
    }
   ],
   "source": [
    "print (uber_15['month'])"
   ]
  },
  {
   "cell_type": "code",
   "execution_count": 20,
   "id": "84108fb4",
   "metadata": {},
   "outputs": [
    {
     "name": "stdout",
     "output_type": "stream",
     "text": [
      "6    2571771\n",
      "5    2483980\n",
      "2    2222189\n",
      "4    2112705\n",
      "3    2062639\n",
      "1    1918970\n",
      "Name: month, dtype: int64\n"
     ]
    }
   ],
   "source": [
    "print (uber_15['month'].value_counts())"
   ]
  },
  {
   "cell_type": "code",
   "execution_count": 19,
   "id": "2f18b306",
   "metadata": {},
   "outputs": [
    {
     "data": {
      "text/plain": [
       "<Axes: >"
      ]
     },
     "execution_count": 19,
     "metadata": {},
     "output_type": "execute_result"
    },
    {
     "data": {
      "image/png": "[encoded data removed]",
      "text/plain": [
       "<Figure size 640x480 with 1 Axes>"
      ]
     },
     "metadata": {},
     "output_type": "display_data"
    }
   ],
   "source": [
    "uber_15['month'].value_counts().plot(kind='bar')"
   ]
  }
 ],
 "metadata": {
  "kernelspec": {
   "display_name": "Python 3 (ipykernel)",
   "language": "python",
   "name": "python3"
  },
  "language_info": {
   "codemirror_mode": {
    "name": "ipython",
    "version": 3
   },
   "file_extension": ".py",
   "mimetype": "text/x-python",
   "name": "python",
   "nbconvert_exporter": "python",
   "pygments_lexer": "ipython3",
   "version": "3.10.9"
  }
 },
 "nbformat": 4,
 "nbformat_minor": 5
}
